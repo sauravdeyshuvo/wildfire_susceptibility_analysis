{
 "cells": [
  {
   "cell_type": "code",
   "execution_count": null,
   "id": "975e9bba-9a43-4e3b-8048-e81df4ff0fe0",
   "metadata": {},
   "outputs": [],
   "source": [
    "'''\n",
    "This code details all the necessary information for the converted Haines Index files (converted to netCDF from GRIB2). \n",
    "This may be helpful if the converted file becomes difficult or impossible to reproject. \n",
    "This code is written by Saurav Dey Shuvo (saurav.met@gmail.com). \n",
    "'''"
   ]
  },
  {
   "cell_type": "code",
   "execution_count": null,
   "id": "c1fde0d1-2666-4961-819a-1f9f8b446a8f",
   "metadata": {},
   "outputs": [],
   "source": [
    "# Libraries \n",
    "import xarray as xr\n",
    "\n",
    "# Path to a Haines Index file\n",
    "file_path = \"D:/2Courses/8902/data/hrrr/20231026/hrrr/20231001/haines_index_20231001.nc\"\n",
    "\n",
    "# Open the netCDF file\n",
    "dataset = xr.open_dataset(file_path)\n",
    "\n",
    "# Print the structure of the dataset\n",
    "print(dataset)\n",
    "\n",
    "# Print the variables and their dimensions\n",
    "print(\"\\nVariables and their dimensions:\")\n",
    "for var in dataset.data_vars:\n",
    "    print(f\"{var}: {dataset[var].dims}\")\n",
    "\n",
    "# Print the attributes\n",
    "print(\"\\nGlobal attributes:\")\n",
    "print(dataset.attrs)\n"
   ]
  }
 ],
 "metadata": {
  "kernelspec": {
   "display_name": "Python 3 (ipykernel)",
   "language": "python",
   "name": "python3"
  },
  "language_info": {
   "codemirror_mode": {
    "name": "ipython",
    "version": 3
   },
   "file_extension": ".py",
   "mimetype": "text/x-python",
   "name": "python",
   "nbconvert_exporter": "python",
   "pygments_lexer": "ipython3",
   "version": "3.9.21"
  }
 },
 "nbformat": 4,
 "nbformat_minor": 5
}
