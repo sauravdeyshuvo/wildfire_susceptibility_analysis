{
 "cells": [
  {
   "cell_type": "code",
   "execution_count": null,
   "id": "ad5dfd12-1a0d-45e3-ac70-dc5226031d86",
   "metadata": {},
   "outputs": [],
   "source": [
    "'''\n",
    "This code downloads HRRR data with a library named Herbie (https://herbie.readthedocs.io/en/latest/user_guide/index.html). \n",
    "This code downloads both surface data (by default) as well as pressure level data (product=\"prs\"). \n",
    "The code is written to download for 00, 06, 12, and 18 UTC hours. If you want to download beyond these hours, just write the hours accordingly. \n",
    "Also, change the date if you want to download for other days. \n",
    "You need to install the Herbie library before downloading the data. You need to download once. \n",
    "So, comment out the installation command once it's installed. \n",
    "'''"
   ]
  },
  {
   "cell_type": "code",
   "execution_count": 5,
   "id": "228de4f6-9496-48a6-8958-76157e4c04fe",
   "metadata": {},
   "outputs": [],
   "source": [
    "# Installing Herbie \n",
    "!conda install -c conda-forge herbie-data"
   ]
  },
  {
   "cell_type": "code",
   "execution_count": 6,
   "id": "0b7e13ae-4794-457a-8c4c-17e76813b317",
   "metadata": {},
   "outputs": [
    {
     "name": "stdout",
     "output_type": "stream",
     "text": [
      "✅ Found ┊ model=hrrr ┊ \u001b[3mproduct=prs\u001b[0m ┊ \u001b[38;2;41;130;13m2023-Oct-01 00:00 UTC\u001b[92m F00\u001b[0m ┊ \u001b[38;2;255;153;0m\u001b[3mGRIB2 @ aws\u001b[0m ┊ \u001b[38;2;255;153;0m\u001b[3mIDX @ aws\u001b[0m\n",
      "✅ Found ┊ model=hrrr ┊ \u001b[3mproduct=sfc\u001b[0m ┊ \u001b[38;2;41;130;13m2023-Oct-01 00:00 UTC\u001b[92m F00\u001b[0m ┊ \u001b[38;2;255;153;0m\u001b[3mGRIB2 @ aws\u001b[0m ┊ \u001b[38;2;255;153;0m\u001b[3mIDX @ aws\u001b[0m\n",
      "👨🏻‍🏭 Created directory: [D:\\2Courses\\8902\\data\\hrrr\\20231026\\hrrr\\20231001]\n"
     ]
    },
    {
     "data": {
      "text/plain": [
       "WindowsPath('D:/2Courses/8902/data/hrrr/20231026/hrrr/20231001/hrrr.t00z.wrfprsf00.grib2')"
      ]
     },
     "execution_count": 6,
     "metadata": {},
     "output_type": "execute_result"
    }
   ],
   "source": [
    "# Call the library \n",
    "from herbie import Herbie\n",
    "# Download a full file\n",
    "H2 = Herbie(\"2023-10-01 00\", product=\"prs\", fxx=0, save_dir= r'D:\\2Courses\\8902\\data\\hrrr\\20231026')\n",
    "H1 = Herbie(\"2023-10-01 00\", fxx=0, save_dir= r'D:\\2Courses\\8902\\data\\hrrr\\20231026')\n",
    "H1.download()\n",
    "H2.download()"
   ]
  },
  {
   "cell_type": "code",
   "execution_count": 7,
   "id": "413fd3ce-f78b-4ef3-bca0-4f6aa58e5c8f",
   "metadata": {},
   "outputs": [
    {
     "name": "stdout",
     "output_type": "stream",
     "text": [
      "✅ Found ┊ model=hrrr ┊ \u001b[3mproduct=sfc\u001b[0m ┊ \u001b[38;2;41;130;13m2023-Oct-01 06:00 UTC\u001b[92m F00\u001b[0m ┊ \u001b[38;2;255;153;0m\u001b[3mGRIB2 @ aws\u001b[0m ┊ \u001b[38;2;255;153;0m\u001b[3mIDX @ aws\u001b[0m\n",
      "✅ Found ┊ model=hrrr ┊ \u001b[3mproduct=prs\u001b[0m ┊ \u001b[38;2;41;130;13m2023-Oct-01 06:00 UTC\u001b[92m F00\u001b[0m ┊ \u001b[38;2;255;153;0m\u001b[3mGRIB2 @ aws\u001b[0m ┊ \u001b[38;2;255;153;0m\u001b[3mIDX @ aws\u001b[0m\n"
     ]
    },
    {
     "data": {
      "text/plain": [
       "WindowsPath('D:/2Courses/8902/data/hrrr/20231026/hrrr/20231001/hrrr.t06z.wrfprsf00.grib2')"
      ]
     },
     "execution_count": 7,
     "metadata": {},
     "output_type": "execute_result"
    }
   ],
   "source": [
    "# Call the library \n",
    "from herbie import Herbie\n",
    "# Download a full file\n",
    "H3 = Herbie(\"2023-10-01 06\", fxx=0, save_dir= r'D:\\2Courses\\8902\\data\\hrrr\\20231026')\n",
    "H4 = Herbie(\"2023-10-01 06\", product=\"prs\", fxx=0, save_dir= r'D:\\2Courses\\8902\\data\\hrrr\\20231026')\n",
    "H3.download()\n",
    "H4.download()"
   ]
  },
  {
   "cell_type": "code",
   "execution_count": 8,
   "id": "4ca8681e-023c-41f2-b9f8-8a41d6c5a489",
   "metadata": {},
   "outputs": [
    {
     "name": "stdout",
     "output_type": "stream",
     "text": [
      "✅ Found ┊ model=hrrr ┊ \u001b[3mproduct=sfc\u001b[0m ┊ \u001b[38;2;41;130;13m2023-Oct-01 12:00 UTC\u001b[92m F00\u001b[0m ┊ \u001b[38;2;255;153;0m\u001b[3mGRIB2 @ aws\u001b[0m ┊ \u001b[38;2;255;153;0m\u001b[3mIDX @ aws\u001b[0m\n",
      "✅ Found ┊ model=hrrr ┊ \u001b[3mproduct=prs\u001b[0m ┊ \u001b[38;2;41;130;13m2023-Oct-01 12:00 UTC\u001b[92m F00\u001b[0m ┊ \u001b[38;2;255;153;0m\u001b[3mGRIB2 @ aws\u001b[0m ┊ \u001b[38;2;255;153;0m\u001b[3mIDX @ aws\u001b[0m\n"
     ]
    },
    {
     "data": {
      "text/plain": [
       "WindowsPath('D:/2Courses/8902/data/hrrr/20231026/hrrr/20231001/hrrr.t12z.wrfprsf00.grib2')"
      ]
     },
     "execution_count": 8,
     "metadata": {},
     "output_type": "execute_result"
    }
   ],
   "source": [
    "# Call the library \n",
    "from herbie import Herbie\n",
    "# Download a full file\n",
    "H5 = Herbie(\"2023-10-01 12\", fxx=0, save_dir= r'D:\\2Courses\\8902\\data\\hrrr\\20231026')\n",
    "H6 = Herbie(\"2023-10-01 12\", product=\"prs\", fxx=0, save_dir= r'D:\\2Courses\\8902\\data\\hrrr\\20231026')\n",
    "H5.download()\n",
    "H6.download()"
   ]
  },
  {
   "cell_type": "code",
   "execution_count": 9,
   "id": "5630558f-a02a-4ad9-9172-f3d539b52ecc",
   "metadata": {},
   "outputs": [
    {
     "name": "stdout",
     "output_type": "stream",
     "text": [
      "✅ Found ┊ model=hrrr ┊ \u001b[3mproduct=sfc\u001b[0m ┊ \u001b[38;2;41;130;13m2023-Oct-01 18:00 UTC\u001b[92m F00\u001b[0m ┊ \u001b[38;2;255;153;0m\u001b[3mGRIB2 @ aws\u001b[0m ┊ \u001b[38;2;255;153;0m\u001b[3mIDX @ aws\u001b[0m\n",
      "✅ Found ┊ model=hrrr ┊ \u001b[3mproduct=prs\u001b[0m ┊ \u001b[38;2;41;130;13m2023-Oct-01 18:00 UTC\u001b[92m F00\u001b[0m ┊ \u001b[38;2;255;153;0m\u001b[3mGRIB2 @ aws\u001b[0m ┊ \u001b[38;2;255;153;0m\u001b[3mIDX @ aws\u001b[0m\n"
     ]
    },
    {
     "data": {
      "text/plain": [
       "WindowsPath('D:/2Courses/8902/data/hrrr/20231026/hrrr/20231001/hrrr.t18z.wrfprsf00.grib2')"
      ]
     },
     "execution_count": 9,
     "metadata": {},
     "output_type": "execute_result"
    }
   ],
   "source": [
    "# Call the library \n",
    "from herbie import Herbie\n",
    "# Download a full file\n",
    "H7 = Herbie(\"2023-10-01 18\", fxx=0, save_dir= r'D:\\2Courses\\8902\\data\\hrrr\\20231026')\n",
    "H8 = Herbie(\"2023-10-01 18\", product=\"prs\", fxx=0, save_dir= r'D:\\2Courses\\8902\\data\\hrrr\\20231026')\n",
    "H7.download()\n",
    "H8.download()"
   ]
  }
 ],
 "metadata": {
  "kernelspec": {
   "display_name": "Python 3 (ipykernel)",
   "language": "python",
   "name": "python3"
  },
  "language_info": {
   "codemirror_mode": {
    "name": "ipython",
    "version": 3
   },
   "file_extension": ".py",
   "mimetype": "text/x-python",
   "name": "python",
   "nbconvert_exporter": "python",
   "pygments_lexer": "ipython3",
   "version": "3.9.21"
  }
 },
 "nbformat": 4,
 "nbformat_minor": 5
}
