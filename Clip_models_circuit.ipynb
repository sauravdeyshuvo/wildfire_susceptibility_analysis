{
 "cells": [
  {
   "cell_type": "code",
   "execution_count": 1,
   "id": "809cd70f-26c1-4c35-8de1-080ebebb95f5",
   "metadata": {},
   "outputs": [
    {
     "data": {
      "text/plain": [
       "'\\nThis code clips the output files from ML models to the shape of the circuits. \\nThis code is written by Saurav Dey Shuvo (saurav.met@gmail.com). \\n'"
      ]
     },
     "execution_count": 1,
     "metadata": {},
     "output_type": "execute_result"
    }
   ],
   "source": [
    "'''\n",
    "This code clips the output files from ML models to the shape of the circuits. \n",
    "This code is written by Saurav Dey Shuvo (saurav.met@gmail.com). \n",
    "'''"
   ]
  },
  {
   "cell_type": "code",
   "execution_count": 2,
   "id": "ef1950be-4fb2-4e1d-8d2d-8c04620347cd",
   "metadata": {},
   "outputs": [
    {
     "name": "stdout",
     "output_type": "stream",
     "text": [
      "Clipped file saved: D:\\2Courses\\8902\\reprojected_data\\ClippedResults\\wildfire_susceptibility_forecast_day_1_00Z.tif\n",
      "Clipped file saved: D:\\2Courses\\8902\\reprojected_data\\ClippedResults\\wildfire_susceptibility_forecast_day_1_06Z.tif\n",
      "Clipped file saved: D:\\2Courses\\8902\\reprojected_data\\ClippedResults\\wildfire_susceptibility_forecast_day_1_12Z.tif\n",
      "Clipped file saved: D:\\2Courses\\8902\\reprojected_data\\ClippedResults\\wildfire_susceptibility_forecast_day_1_18Z.tif\n",
      "Clipped file saved: D:\\2Courses\\8902\\reprojected_data\\ClippedResults\\wildfire_susceptibility_forecast_day_2_00Z.tif\n",
      "Clipped file saved: D:\\2Courses\\8902\\reprojected_data\\ClippedResults\\wildfire_susceptibility_forecast_day_2_06Z.tif\n",
      "Clipped file saved: D:\\2Courses\\8902\\reprojected_data\\ClippedResults\\wildfire_susceptibility_forecast_day_2_12Z.tif\n",
      "Clipped file saved: D:\\2Courses\\8902\\reprojected_data\\ClippedResults\\wildfire_susceptibility_forecast_day_2_18Z.tif\n",
      "Clipped file saved: D:\\2Courses\\8902\\reprojected_data\\ClippedResults\\wildfire_susceptibility_forecast_day_3_00Z.tif\n",
      "Clipped file saved: D:\\2Courses\\8902\\reprojected_data\\ClippedResults\\wildfire_susceptibility_forecast_day_3_06Z.tif\n",
      "Clipped file saved: D:\\2Courses\\8902\\reprojected_data\\ClippedResults\\wildfire_susceptibility_forecast_day_3_12Z.tif\n",
      "Clipped file saved: D:\\2Courses\\8902\\reprojected_data\\ClippedResults\\wildfire_susceptibility_forecast_day_3_18Z.tif\n",
      "Clipped file saved: D:\\2Courses\\8902\\reprojected_data\\ClippedResults\\wildfire_susceptibility_forecast_day_4_00Z.tif\n",
      "Clipped file saved: D:\\2Courses\\8902\\reprojected_data\\ClippedResults\\wildfire_susceptibility_forecast_day_4_06Z.tif\n",
      "Clipped file saved: D:\\2Courses\\8902\\reprojected_data\\ClippedResults\\wildfire_susceptibility_forecast_day_4_12Z.tif\n",
      "Clipped file saved: D:\\2Courses\\8902\\reprojected_data\\ClippedResults\\wildfire_susceptibility_forecast_day_4_18Z.tif\n",
      "Clipped file saved: D:\\2Courses\\8902\\reprojected_data\\ClippedResults\\wildfire_susceptibility_forecast_day_5_00Z.tif\n",
      "Clipped file saved: D:\\2Courses\\8902\\reprojected_data\\ClippedResults\\wildfire_susceptibility_forecast_day_5_06Z.tif\n",
      "Clipped file saved: D:\\2Courses\\8902\\reprojected_data\\ClippedResults\\wildfire_susceptibility_forecast_day_5_12Z.tif\n",
      "Clipped file saved: D:\\2Courses\\8902\\reprojected_data\\ClippedResults\\wildfire_susceptibility_forecast_day_5_18Z.tif\n",
      "Clipped file saved: D:\\2Courses\\8902\\reprojected_data\\ClippedResults\\wildfire_susceptibility_forecast_day_6_00Z.tif\n",
      "Clipped file saved: D:\\2Courses\\8902\\reprojected_data\\ClippedResults\\wildfire_susceptibility_forecast_day_6_06Z.tif\n",
      "Clipped file saved: D:\\2Courses\\8902\\reprojected_data\\ClippedResults\\wildfire_susceptibility_forecast_day_6_12Z.tif\n",
      "Clipped file saved: D:\\2Courses\\8902\\reprojected_data\\ClippedResults\\wildfire_susceptibility_forecast_day_6_18Z.tif\n",
      "Clipped file saved: D:\\2Courses\\8902\\reprojected_data\\ClippedResults\\wildfire_susceptibility_forecast_day_7_00Z.tif\n",
      "Clipped file saved: D:\\2Courses\\8902\\reprojected_data\\ClippedResults\\wildfire_susceptibility_forecast_day_7_06Z.tif\n",
      "Clipped file saved: D:\\2Courses\\8902\\reprojected_data\\ClippedResults\\wildfire_susceptibility_forecast_day_7_12Z.tif\n",
      "Clipped file saved: D:\\2Courses\\8902\\reprojected_data\\ClippedResults\\wildfire_susceptibility_forecast_day_7_18Z.tif\n"
     ]
    }
   ],
   "source": [
    "import os\n",
    "import rasterio\n",
    "from rasterio.mask import mask\n",
    "import geopandas as gpd\n",
    "\n",
    "# Paths\n",
    "input_folder = r\"D:\\2Courses\\8902\\reprojected_data\\SimulatedResults\"\n",
    "output_folder = r\"D:\\2Courses\\8902\\reprojected_data\\ClippedResults\"\n",
    "shapefile_path = r\"D:\\2Courses\\8902\\data\\Filtered_circuits\\Filtered_circuits\\filtered_circuits.shp\"\n",
    "\n",
    "# Create the output folder if it doesn't exist\n",
    "os.makedirs(output_folder, exist_ok=True)\n",
    "\n",
    "# Load the shapefile\n",
    "shapefile = gpd.read_file(shapefile_path)\n",
    "\n",
    "# Iterate through all .tif files in the input folder\n",
    "for file_name in os.listdir(input_folder):\n",
    "    if file_name.endswith('.tif'):  # Process only .tif files\n",
    "        input_path = os.path.join(input_folder, file_name)\n",
    "\n",
    "        # Open the raster file\n",
    "        with rasterio.open(input_path) as src:\n",
    "            # Determine an appropriate nodata value for uint8 (e.g., 255)\n",
    "            nodata_value = 0 if src.nodata is None else src.nodata\n",
    "            \n",
    "            # Perform clipping using the shapefile\n",
    "            out_image, out_transform = mask(src, shapes=shapefile.geometry, crop=True, nodata=nodata_value)\n",
    "            \n",
    "            # Explicitly assign nodata to areas outside the mask\n",
    "            out_image[out_image == 0] = nodata_value\n",
    "\n",
    "            # Update metadata for the clipped file\n",
    "            out_meta = src.meta.copy()\n",
    "            out_meta.update({\n",
    "                \"driver\": \"GTiff\",\n",
    "                \"height\": out_image.shape[1],\n",
    "                \"width\": out_image.shape[2],\n",
    "                \"transform\": out_transform,\n",
    "                \"nodata\": nodata_value,\n",
    "            })\n",
    "\n",
    "            # Save the clipped raster\n",
    "            output_path = os.path.join(output_folder, file_name)\n",
    "            with rasterio.open(output_path, \"w\", **out_meta) as dest:\n",
    "                dest.write(out_image)\n",
    "\n",
    "        print(f\"Clipped file saved: {output_path}\")\n"
   ]
  }
 ],
 "metadata": {
  "kernelspec": {
   "display_name": "Python 3 (ipykernel)",
   "language": "python",
   "name": "python3"
  },
  "language_info": {
   "codemirror_mode": {
    "name": "ipython",
    "version": 3
   },
   "file_extension": ".py",
   "mimetype": "text/x-python",
   "name": "python",
   "nbconvert_exporter": "python",
   "pygments_lexer": "ipython3",
   "version": "3.9.21"
  }
 },
 "nbformat": 4,
 "nbformat_minor": 5
}
