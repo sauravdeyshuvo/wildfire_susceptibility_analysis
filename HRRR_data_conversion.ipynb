{
 "cells": [
  {
   "cell_type": "code",
   "execution_count": 13,
   "id": "94f5b24c-bf17-4660-825e-d583d4b399db",
   "metadata": {},
   "outputs": [
    {
     "data": {
      "text/plain": [
       "'\\n04/01/2025: This file is created\\n'"
      ]
     },
     "execution_count": 13,
     "metadata": {},
     "output_type": "execute_result"
    }
   ],
   "source": [
    "'''\n",
    "This code converts the format of the HRRR data files. Originally, the HRRR files are in GRIB2 format. \n",
    "This code converts into netCDF from GRIB2 format. \n",
    "'''"
   ]
  },
  {
   "cell_type": "code",
   "execution_count": null,
   "id": "17f043c9-8f1c-4828-b7b8-0bef6e347143",
   "metadata": {},
   "outputs": [
    {
     "name": "stdout",
     "output_type": "stream",
     "text": [
      "Processing HRRR files...\n"
     ]
    }
   ],
   "source": [
    "import os\n",
    "import pygrib\n",
    "import xarray as xr\n",
    "\n",
    "# Define directories\n",
    "hrrr_directory = r\"D:\\2Courses\\8902\\data\\hrrr\\20231026\\hrrr\"  # Source directory containing HRRR GRIB2 files\n",
    "output_directory = r\"D:\\2Courses\\8902\\reprojected_data\\converted_HRRR\"  # Base output directory for converted files\n",
    "\n",
    "# Ensure the output base directory exists\n",
    "if not os.path.exists(output_directory):\n",
    "    os.makedirs(output_directory)\n",
    "\n",
    "def create_daily_folder_and_convert(grib_file, day_folder):\n",
    "    \"\"\"\n",
    "    Convert GRIB2 file to netCDF and save in the respective day's folder.\n",
    "    \"\"\"\n",
    "    try:\n",
    "        # Use pygrib to read GRIB2 file\n",
    "        grbs = pygrib.open(grib_file)\n",
    "        data_vars = {}\n",
    "        coords = {}\n",
    "\n",
    "        # Extract relevant data and coordinates\n",
    "        for grb in grbs:\n",
    "            variable_name = grb.parameterName\n",
    "            lat, lon = grb.latlons()\n",
    "            data = grb.values\n",
    "\n",
    "            # Store data in data_vars\n",
    "            data_vars[variable_name] = ([\"lat\", \"lon\"], data)\n",
    "\n",
    "            # Set coordinates\n",
    "            coords[\"lat\"] = lat[:, 0]  # Latitude\n",
    "            coords[\"lon\"] = lon[0, :]  # Longitude\n",
    "\n",
    "        # Create xarray Dataset\n",
    "        dataset = xr.Dataset(data_vars, coords)\n",
    "        dataset.attrs[\"description\"] = \"Converted from GRIB2 to netCDF\"\n",
    "\n",
    "        # Generate netCDF file name\n",
    "        netcdf_file = os.path.join(day_folder, f\"{os.path.splitext(os.path.basename(grib_file))[0]}.nc\")\n",
    "        \n",
    "        # Save dataset to netCDF\n",
    "        dataset.to_netcdf(netcdf_file)\n",
    "        print(f\"Converted: {grib_file} -> {netcdf_file}\")\n",
    "    except Exception as e:\n",
    "        print(f\"Error converting {grib_file}: {e}\")\n",
    "\n",
    "def process_hrrr_files(input_dir, output_dir):\n",
    "    \"\"\"\n",
    "    Organize files by day and convert GRIB2 files to netCDF.\n",
    "    \"\"\"\n",
    "    for root, _, files in os.walk(input_dir):\n",
    "        for file in files:\n",
    "            if file.endswith(\".grib2\"):\n",
    "                grib_file = os.path.join(root, file)\n",
    "                \n",
    "                # Extract day folder from the path and create a corresponding folder in output directory\n",
    "                day_folder_name = os.path.basename(os.path.dirname(grib_file))\n",
    "                day_folder_path = os.path.join(output_dir, day_folder_name)\n",
    "\n",
    "                if not os.path.exists(day_folder_path):\n",
    "                    os.makedirs(day_folder_path)\n",
    "\n",
    "                # Convert GRIB2 to netCDF and save in the day's folder\n",
    "                create_daily_folder_and_convert(grib_file, day_folder_path)\n",
    "    \n",
    "    # Delete .idx files from the input directory\n",
    "    delete_idx_files(input_dir)\n",
    "\n",
    "def delete_idx_files(folder_path):\n",
    "    \"\"\"\n",
    "    Deletes all .idx files in the specified folder and its subdirectories.\n",
    "    \"\"\"\n",
    "    for root, _, files in os.walk(folder_path):\n",
    "        for file in files:\n",
    "            if file.endswith(\".idx\"):\n",
    "                idx_file = os.path.join(root, file)\n",
    "                os.remove(idx_file)\n",
    "                print(f\"Deleted: {idx_file}\")\n",
    "\n",
    "# Run the script for the HRRR directory\n",
    "print(\"Processing HRRR files...\")\n",
    "process_hrrr_files(hrrr_directory, output_directory)\n",
    "print(f\"All converted netCDF files saved to respective daily folders in: {output_directory}\")\n"
   ]
  }
 ],
 "metadata": {
  "kernelspec": {
   "display_name": "Python 3 (ipykernel)",
   "language": "python",
   "name": "python3"
  },
  "language_info": {
   "codemirror_mode": {
    "name": "ipython",
    "version": 3
   },
   "file_extension": ".py",
   "mimetype": "text/x-python",
   "name": "python",
   "nbconvert_exporter": "python",
   "pygments_lexer": "ipython3",
   "version": "3.9.21"
  }
 },
 "nbformat": 4,
 "nbformat_minor": 5
}
